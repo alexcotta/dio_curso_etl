{
  "nbformat": 4,
  "nbformat_minor": 0,
  "metadata": {
    "colab": {
      "name": "projeto_etl_dio.ipynb",
      "provenance": [],
      "collapsed_sections": []
    },
    "kernelspec": {
      "name": "python3",
      "display_name": "Python 3"
    },
    "language_info": {
      "name": "python"
    }
  },
  "cells": [
    {
      "cell_type": "code",
      "execution_count": null,
      "metadata": {
        "id": "UxeNrOI3sbOy"
      },
      "outputs": [],
      "source": [
        "from google.colab import files \n",
        "  \n",
        "  \n",
        "uploaded = files.upload()"
      ]
    },
    {
      "cell_type": "code",
      "source": [
        "import pandas as pd \n",
        "import io \n",
        "  \n",
        "df = pd.read_csv(io.BytesIO(uploaded['ocorrencia.csv']), sep=';') \n",
        "print(df)"
      ],
      "metadata": {
        "id": "w3HRoypRujKf"
      },
      "execution_count": null,
      "outputs": []
    },
    {
      "cell_type": "code",
      "source": [
        "url = 'https://raw.githubusercontent.com/ftiosso/dio-curso-etl/main/ocorrencia_2010_2020.csv'\n",
        "df = pd.read_csv(url)"
      ],
      "metadata": {
        "id": "Ee75a1I1v8Fh"
      },
      "execution_count": null,
      "outputs": []
    },
    {
      "cell_type": "code",
      "source": [
        "import pandas as pd"
      ],
      "metadata": {
        "id": "qQ9tpYCtwoX_"
      },
      "execution_count": null,
      "outputs": []
    },
    {
      "cell_type": "code",
      "source": [
        "!pip install pandera\n",
        "\n",
        "import pandera as pa"
      ],
      "metadata": {
        "id": "0MaCI-iCp-dI"
      },
      "execution_count": null,
      "outputs": []
    },
    {
      "cell_type": "code",
      "source": [
        "df = pd.read_csv(\"ocorrencia.csv\", sep=';', parse_dates=['ocorrencia_dia'])\n",
        "df"
      ],
      "metadata": {
        "id": "0wXuouWyw10K"
      },
      "execution_count": null,
      "outputs": []
    },
    {
      "cell_type": "code",
      "source": [
        "#Exibe os tipos dos campos da tabela\n",
        "df.dtypes"
      ],
      "metadata": {
        "id": "P4cRvw49z1If"
      },
      "execution_count": null,
      "outputs": []
    },
    {
      "cell_type": "code",
      "source": [
        "df = pd.read_csv(\"ocorrencia.csv\", sep=';', parse_dates=['ocorrencia_dia'], dayfirst='True')"
      ],
      "metadata": {
        "id": "bR5aOR2NZLms"
      },
      "execution_count": null,
      "outputs": []
    },
    {
      "cell_type": "code",
      "source": [
        "df.head(10)"
      ],
      "metadata": {
        "id": "XsjGq69AqMqq"
      },
      "execution_count": null,
      "outputs": []
    },
    {
      "cell_type": "code",
      "source": [
        "from pandera.schema_components import Column\n",
        "# Cria um schema personalizado para posterior uso\n",
        "schema = pa.DataFrameSchema(\n",
        "    columns = {\n",
        "        'codigo:':pa.Column(pa.Int, required=False), #Permite aceitar quando uma coluna aparece umas vezes e outras não aparece\n",
        "        'codigo_ocorrencia':pa.Column(pa.Int),\n",
        "        'codigo_ocorrencia2':pa.Column(pa.Int),\n",
        "        'ocorrencia_classificacao':pa.Column(pa.String),\n",
        "        'ocorrencia_cidade':pa.Column(pa.String),\n",
        "        'ocorrencia_uf':pa.Column(pa.String), #pa.Check.str_length(2,2) valida se o UF tem apenas 2 caracteres\n",
        "        'ocorrencia_aerodromo':pa.Column(pa.String),\n",
        "        'ocorrencia_dia':pa.Column(pa.DateTime),\n",
        "        'ocorrencia_hora':pa.Column(pa.String, pa.Check.str_matches(r'^([0-1]?[0-9]|[2][0-3]):([0-5][0-9])(:[0-5][0-9])?$'), nullable=True),\n",
        "        'total_recomendacoes':pa.Column(pa.Int)\n",
        "\n",
        "    }\n",
        ")"
      ],
      "metadata": {
        "id": "aLRz7y3Wdbbm"
      },
      "execution_count": null,
      "outputs": []
    },
    {
      "cell_type": "code",
      "source": [
        "# Valida se um determinado schema possuiu algum dado incorreto para o tipo de dado atribuido\n",
        "schema.validate(df)"
      ],
      "metadata": {
        "id": "FNza0FH3efsf"
      },
      "execution_count": null,
      "outputs": []
    },
    {
      "cell_type": "code",
      "source": [
        "df = pd.read_csv(\"ocorrencia.csv\", sep=';', parse_dates=['ocorrencia_dia'], dayfirst='True')"
      ],
      "metadata": {
        "id": "sMJ8qWHUsx60"
      },
      "execution_count": null,
      "outputs": []
    },
    {
      "cell_type": "code",
      "source": [
        "df.head()"
      ],
      "metadata": {
        "id": "R8FZRqQqqRAG"
      },
      "execution_count": null,
      "outputs": []
    },
    {
      "cell_type": "code",
      "source": [
        "df.loc[1, 'ocorrencia_cidade']"
      ],
      "metadata": {
        "id": "313016xBtAkG"
      },
      "execution_count": null,
      "outputs": []
    },
    {
      "cell_type": "code",
      "source": [
        "df.loc[3]"
      ],
      "metadata": {
        "id": "tWbPZukitV-n"
      },
      "execution_count": null,
      "outputs": []
    },
    {
      "cell_type": "code",
      "source": [
        "df.loc[1:3]"
      ],
      "metadata": {
        "id": "tEWU9JcIthK0"
      },
      "execution_count": null,
      "outputs": []
    },
    {
      "cell_type": "code",
      "source": [
        "df.loc[[10,40]]"
      ],
      "metadata": {
        "id": "byNNYPTauBPy"
      },
      "execution_count": null,
      "outputs": []
    },
    {
      "cell_type": "code",
      "source": [
        "df.loc[:,'ocorrencia_cidade']"
      ],
      "metadata": {
        "id": "IGa4Bl_EuNmX"
      },
      "execution_count": null,
      "outputs": []
    },
    {
      "cell_type": "code",
      "source": [
        "# Sugestão para verificar se uma coluna possui apenas valores unicos\n",
        "df.codigo_ocorrencia.is_unique"
      ],
      "metadata": {
        "id": "tScqcBaWu2wT"
      },
      "execution_count": null,
      "outputs": []
    },
    {
      "cell_type": "code",
      "source": [
        "df.set_index('codigo_ocorrencia', inplace=True)"
      ],
      "metadata": {
        "id": "MG6Xdn0TvIIL"
      },
      "execution_count": null,
      "outputs": []
    },
    {
      "cell_type": "code",
      "source": [
        "df.head()"
      ],
      "metadata": {
        "id": "xGiGx65nvqN6"
      },
      "execution_count": null,
      "outputs": []
    },
    {
      "cell_type": "code",
      "source": [
        "df.loc[52242]"
      ],
      "metadata": {
        "id": "B-xOetqpvv_F"
      },
      "execution_count": null,
      "outputs": []
    },
    {
      "cell_type": "code",
      "source": [
        "df.reset_index(drop=True, inplace=True)"
      ],
      "metadata": {
        "id": "nCu1P4Cjv_1e"
      },
      "execution_count": null,
      "outputs": []
    },
    {
      "cell_type": "code",
      "source": [
        "df.loc[0, 'ocorrencia_aerodromo'] = ''"
      ],
      "metadata": {
        "id": "qP4Dty30wkFq"
      },
      "execution_count": null,
      "outputs": []
    },
    {
      "cell_type": "code",
      "source": [
        "df.head()"
      ],
      "metadata": {
        "id": "97BBJdb-wvEt"
      },
      "execution_count": null,
      "outputs": []
    },
    {
      "cell_type": "code",
      "source": [
        "#Altera os dados de toda uma coluna\n",
        "df.loc[:, 'total_recomendacoes'] = 10"
      ],
      "metadata": {
        "id": "kLJKub22xR3_"
      },
      "execution_count": null,
      "outputs": []
    },
    {
      "cell_type": "code",
      "source": [
        "df['ocorrencia_uf_bkp'] = df.ocorrencia_uf"
      ],
      "metadata": {
        "id": "Zqa9aQmKxk94"
      },
      "execution_count": null,
      "outputs": []
    },
    {
      "cell_type": "code",
      "source": [
        "df.head()"
      ],
      "metadata": {
        "id": "uKYTTFrFx1ML"
      },
      "execution_count": null,
      "outputs": []
    },
    {
      "cell_type": "code",
      "source": [
        "# Procurar apenas as ocorrencias em SP e alterar a classificacao para grave\n",
        "df.loc[df.ocorrencia_uf == 'SP', ['ocorrencia_classificacao']] = 'GRAVE'"
      ],
      "metadata": {
        "id": "ddYY_RuOyVYJ"
      },
      "execution_count": null,
      "outputs": []
    },
    {
      "cell_type": "code",
      "source": [
        "df.loc[df.ocorrencia_uf == 'SP']"
      ],
      "metadata": {
        "id": "3vQtocUZy9GK"
      },
      "execution_count": null,
      "outputs": []
    },
    {
      "cell_type": "code",
      "source": [
        "df.head()"
      ],
      "metadata": {
        "id": "11UGpQNE--vT"
      },
      "execution_count": null,
      "outputs": []
    },
    {
      "cell_type": "markdown",
      "source": [
        "ocorrencia_latitude, ocorrencia_longitude, investigacao_aeronave_liberada, divulgacao_relatorio_numero\n",
        "NaN\n",
        "***\n",
        "\n",
        "investigacao_status, divulgacao_dia_publicacao\n",
        "NaN\n",
        "\n"
      ],
      "metadata": {
        "id": "rBNUvyvq_lC7"
      }
    },
    {
      "cell_type": "code",
      "source": [
        "# Altera o valor apenas de um valor por vez\n",
        "df.loc[df.ocorrencia_aerodromo == '****', ['ocorrencia_aerodromo']] = pd.NA"
      ],
      "metadata": {
        "id": "yE0e0KNoAE9G"
      },
      "execution_count": null,
      "outputs": []
    },
    {
      "cell_type": "code",
      "source": [
        "df['ocorrencia_aerodromo']"
      ],
      "metadata": {
        "id": "KF446JIfB3N5"
      },
      "execution_count": null,
      "outputs": []
    },
    {
      "cell_type": "code",
      "source": [
        "# Permite alterar valores do dataset como um todo\n",
        "df.replace(['***','****', '*****', '####', 'NULL'], pd.NA, inplace=True)"
      ],
      "metadata": {
        "id": "jFQc9zSRCrOG"
      },
      "execution_count": null,
      "outputs": []
    },
    {
      "cell_type": "code",
      "source": [
        "df['ocorrencia_aerodromo']"
      ],
      "metadata": {
        "id": "Jy2JPSpMDCMM"
      },
      "execution_count": null,
      "outputs": []
    },
    {
      "cell_type": "code",
      "source": [
        "df.isna().sum()"
      ],
      "metadata": {
        "id": "y1t2FIhgDiIy"
      },
      "execution_count": null,
      "outputs": []
    },
    {
      "cell_type": "code",
      "source": [
        "df.fillna(0, inplace=True)"
      ],
      "metadata": {
        "id": "ovRnUYZ-D_fa"
      },
      "execution_count": null,
      "outputs": []
    },
    {
      "cell_type": "code",
      "source": [
        "# Altera valores nao informados em apenas uma ou mais coluna sem alterar o dataframe como um todo\n",
        "df.fillna(value={'total_recomendacoes':10}, inplace=True)"
      ],
      "metadata": {
        "id": "Xw-b6kP0E8vF"
      },
      "execution_count": null,
      "outputs": []
    },
    {
      "cell_type": "code",
      "source": [
        "df['total_recomendacoes_bkp'] = df.total_recomendacoes"
      ],
      "metadata": {
        "id": "xULlGSxEGWWF"
      },
      "execution_count": null,
      "outputs": []
    },
    {
      "cell_type": "code",
      "source": [
        "df.head()"
      ],
      "metadata": {
        "id": "V089PqcBGpqa"
      },
      "execution_count": null,
      "outputs": []
    },
    {
      "cell_type": "code",
      "source": [
        "# axis 0 é o eixo das linhas, axis 1 é o eixo das colunas\n",
        "df.drop(['total_recomendacoes_bkp'], axis=1, inplace=True)"
      ],
      "metadata": {
        "id": "hk-57HXLG0yY"
      },
      "execution_count": null,
      "outputs": []
    },
    {
      "cell_type": "code",
      "source": [
        "df.head()"
      ],
      "metadata": {
        "id": "gumLajGKHR98"
      },
      "execution_count": null,
      "outputs": []
    },
    {
      "cell_type": "code",
      "source": [
        "# Remove valores não informados, porém exclui a linha e não apenas a celula\n",
        "df.dropna()"
      ],
      "metadata": {
        "id": "2zT-omtDHcFm"
      },
      "execution_count": null,
      "outputs": []
    },
    {
      "cell_type": "code",
      "source": [
        "# Dropa valores apenas de uma coluna\n",
        "df.dropna(subset=['ocorrencia_uf'])"
      ],
      "metadata": {
        "id": "7lK_kNetHz2_"
      },
      "execution_count": null,
      "outputs": []
    },
    {
      "cell_type": "code",
      "source": [
        "df.drop_duplicates()"
      ],
      "metadata": {
        "id": "6ZiDxXy2ItsY"
      },
      "execution_count": null,
      "outputs": []
    }
  ]
}