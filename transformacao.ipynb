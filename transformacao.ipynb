{
  "nbformat": 4,
  "nbformat_minor": 0,
  "metadata": {
    "colab": {
      "name": "transformacao.ipynb",
      "provenance": []
    },
    "kernelspec": {
      "name": "python3",
      "display_name": "Python 3"
    },
    "language_info": {
      "name": "python"
    }
  },
  "cells": [
    {
      "cell_type": "code",
      "execution_count": null,
      "metadata": {
        "id": "ozj9xarlsAgM"
      },
      "outputs": [],
      "source": [
        "import pandas as pd"
      ]
    },
    {
      "cell_type": "markdown",
      "source": [
        "Importação da biblioteca utilizada no treinamento \n",
        "https://pandera.readthedocs.io/en/stable/"
      ],
      "metadata": {
        "id": "v7tOjIAk0pOa"
      }
    },
    {
      "cell_type": "code",
      "source": [
        "!pip install pandera\n",
        "\n",
        "import pandera as pa"
      ],
      "metadata": {
        "id": "5p-jxshisKpW"
      },
      "execution_count": null,
      "outputs": []
    },
    {
      "cell_type": "markdown",
      "source": [
        "Importação do arquivo ocorrencia.csv \n",
        "Obs. Sempre que for iniciar o projeto deve realizar o upload do arquivo novamente."
      ],
      "metadata": {
        "id": "eaT_m_9f00OJ"
      }
    },
    {
      "cell_type": "code",
      "source": [
        "from google.colab import files \n",
        "  \n",
        "  \n",
        "uploaded = files.upload()"
      ],
      "metadata": {
        "id": "Zfe-HmFhsO07"
      },
      "execution_count": null,
      "outputs": []
    },
    {
      "cell_type": "code",
      "source": [
        "valores_ausentes = ['***','****', '*****', '####', '###', 'NULL']\n",
        "\n",
        "df = pd.read_csv(\"ocorrencia.csv\", sep=';', parse_dates=['ocorrencia_dia'], dayfirst='True', na_values=valores_ausentes)\n",
        "df.head(10)"
      ],
      "metadata": {
        "id": "lebgiK7MtXKj"
      },
      "execution_count": null,
      "outputs": []
    },
    {
      "cell_type": "code",
      "source": [
        "from pandera.schema_components import Column\n",
        "# Cria um schema personalizado para posterior uso\n",
        "schema = pa.DataFrameSchema(\n",
        "    columns = {\n",
        "        'codigo:':pa.Column(pa.Int, required=False), #Permite aceitar quando uma coluna aparece umas vezes e outras não aparece\n",
        "        'codigo_ocorrencia':pa.Column(pa.Int),\n",
        "        'codigo_ocorrencia2':pa.Column(pa.Int),\n",
        "        'ocorrencia_classificacao':pa.Column(pa.String),\n",
        "        'ocorrencia_cidade':pa.Column(pa.String),\n",
        "        'ocorrencia_uf':pa.Column(pa.String, nullable=True), #pa.Check.str_length(2,2) valida se o UF tem apenas 2 caracteres\n",
        "        'ocorrencia_aerodromo':pa.Column(pa.String, nullable=True),\n",
        "        'ocorrencia_dia':pa.Column(pa.DateTime),\n",
        "        'ocorrencia_hora':pa.Column(pa.String, pa.Check.str_matches(r'^([0-1]?[0-9]|[2][0-3]):([0-5][0-9])(:[0-5][0-9])?$'), nullable=True),\n",
        "        'total_recomendacoes':pa.Column(pa.Int)\n",
        "\n",
        "    }\n",
        ")"
      ],
      "metadata": {
        "id": "ytQS8yhYuNcC"
      },
      "execution_count": null,
      "outputs": []
    },
    {
      "cell_type": "code",
      "source": [
        "# Valida se um determinado schema possuiu algum dado incorreto para o tipo de dado atribuido\n",
        "schema.validate(df)"
      ],
      "metadata": {
        "id": "v6kn7VxVuT-T"
      },
      "execution_count": null,
      "outputs": []
    },
    {
      "cell_type": "code",
      "source": [
        "df.dtypes"
      ],
      "metadata": {
        "id": "QkxP7Y7byJyi"
      },
      "execution_count": null,
      "outputs": []
    },
    {
      "cell_type": "code",
      "source": [
        "df.loc[1]"
      ],
      "metadata": {
        "id": "gw21rHyfyd0b"
      },
      "execution_count": null,
      "outputs": []
    },
    {
      "cell_type": "markdown",
      "source": [
        "A busca utilizando o iloc e loc atua como uma lista em python permitindo acessar posições e realizar fatiamentos."
      ],
      "metadata": {
        "id": "eYgzo_ym1OWk"
      }
    },
    {
      "cell_type": "code",
      "source": [
        "# Busca pelo indice, cuidado que o indice pode mudar\n",
        "df.iloc[1]"
      ],
      "metadata": {
        "id": "m9ygxwS7yf0L"
      },
      "execution_count": null,
      "outputs": []
    },
    {
      "cell_type": "code",
      "source": [
        "df.iloc[-1] #atua como um indice de arry no python"
      ],
      "metadata": {
        "id": "a-Zhpsr9yzdf"
      },
      "execution_count": null,
      "outputs": []
    },
    {
      "cell_type": "code",
      "source": [
        "df.iloc[10:15] # busca até a posição final -1 igual ao indice"
      ],
      "metadata": {
        "id": "AOF8CowBzB08"
      },
      "execution_count": null,
      "outputs": []
    },
    {
      "cell_type": "code",
      "source": [
        "df.loc[:, 'ocorrencia_uf']"
      ],
      "metadata": {
        "id": "-lkeKd61zkpO"
      },
      "execution_count": null,
      "outputs": []
    },
    {
      "cell_type": "code",
      "source": [
        "df['ocorrencia_uf']"
      ],
      "metadata": {
        "id": "esEHHS_Jzyn_"
      },
      "execution_count": null,
      "outputs": []
    },
    {
      "cell_type": "code",
      "source": [
        "df.isna().sum()"
      ],
      "metadata": {
        "id": "_H1FdDEL0ENX"
      },
      "execution_count": null,
      "outputs": []
    },
    {
      "cell_type": "code",
      "source": [
        "df.isnull().sum()"
      ],
      "metadata": {
        "id": "GtTHb4Hj0Tu3"
      },
      "execution_count": null,
      "outputs": []
    },
    {
      "cell_type": "code",
      "source": [
        "# Encontra os valores nulos apenas\n",
        "filtro = df.ocorrencia_uf.isnull()\n",
        "df.loc[filtro]"
      ],
      "metadata": {
        "id": "JE8u8tzj0hov"
      },
      "execution_count": null,
      "outputs": []
    },
    {
      "cell_type": "code",
      "source": [
        "filtro = df.ocorrencia_aerodromo.isnull()\n",
        "df.loc[filtro]"
      ],
      "metadata": {
        "id": "gG1j3Nqa1e2Q"
      },
      "execution_count": null,
      "outputs": []
    },
    {
      "cell_type": "code",
      "source": [
        "filtro = df.ocorrencia_hora.isnull()\n",
        "df.loc[filtro]"
      ],
      "metadata": {
        "id": "5Nn3pdTW1-i0"
      },
      "execution_count": null,
      "outputs": []
    },
    {
      "cell_type": "code",
      "source": [
        "# Não conta valores nulos\n",
        "df.count()"
      ],
      "metadata": {
        "id": "CnyuICPn2JlS"
      },
      "execution_count": null,
      "outputs": []
    },
    {
      "cell_type": "code",
      "source": [
        "# ocorrencias com mais de 10 recomendações\n",
        "filtro = df.total_recomendacoes > 10\n",
        "df.loc[filtro]"
      ],
      "metadata": {
        "id": "8M-bgZeN2p3q"
      },
      "execution_count": null,
      "outputs": []
    },
    {
      "cell_type": "code",
      "source": [
        "# ocorrencias com mais de 10 recomendações\n",
        "filtro = df.total_recomendacoes > 10\n",
        "df.loc[filtro, ['ocorrencia_cidade','total_recomendacoes']]"
      ],
      "metadata": {
        "id": "sDxzVmxO3E6G"
      },
      "execution_count": null,
      "outputs": []
    },
    {
      "cell_type": "code",
      "source": [
        "# ocorrencias com classificação == INCIDENTE GRAVE\n",
        "filtro = df.ocorrencia_classificacao == 'INCIDENTE GRAVE'\n",
        "df.loc[filtro, ['ocorrencia_cidade']]"
      ],
      "metadata": {
        "id": "x-aG9MZq3ovD"
      },
      "execution_count": null,
      "outputs": []
    },
    {
      "cell_type": "code",
      "source": [
        "# ocorrencias com classificação == INCIDENTE GRAVE e o estado == SP\n",
        "filtro1 = df.ocorrencia_classificacao == 'INCIDENTE GRAVE'\n",
        "filtro2 = df.ocorrencia_uf == 'SP'\n",
        "df.loc[filtro1 & filtro2]"
      ],
      "metadata": {
        "id": "12X6A3uOEP6h"
      },
      "execution_count": null,
      "outputs": []
    },
    {
      "cell_type": "code",
      "source": [
        "# ocorrencias com classificação == INCIDENTE GRAVE OU estado == SP\n",
        "filtro1 = df.ocorrencia_classificacao == 'INCIDENTE GRAVE'\n",
        "filtro2 = df.ocorrencia_uf == 'SP'\n",
        "df.loc[filtro1 | filtro2]"
      ],
      "metadata": {
        "id": "-yaZphsDFEgA"
      },
      "execution_count": null,
      "outputs": []
    },
    {
      "cell_type": "code",
      "source": [
        "# ocorrencias com classificação == INCIDENTE GRAVE ou classificação == INCIDENTE e o estado == SP\n",
        "filtro1 = (df.ocorrencia_classificacao == 'INCIDENTE GRAVE') | (df.ocorrencia_classificacao == 'INCIDENTE')\n",
        "filtro2 = df.ocorrencia_uf == 'SP'\n",
        "df.loc[filtro1 & filtro2]"
      ],
      "metadata": {
        "id": "CO1A905GGacG"
      },
      "execution_count": null,
      "outputs": []
    },
    {
      "cell_type": "code",
      "source": [
        "# ocorrencias com classificação == INCIDENTE GRAVE ou classificação == INCIDENTE e o estado == SP\n",
        "filtro1 = df.ocorrencia_classificacao.isin(['INCIDENTE GRAVE','INCIDENTE'])\n",
        "filtro2 = df.ocorrencia_uf == 'SP'\n",
        "df.loc[filtro1 & filtro2]"
      ],
      "metadata": {
        "id": "Fv_q79j6FeER"
      },
      "execution_count": null,
      "outputs": []
    },
    {
      "cell_type": "code",
      "source": [
        "# ocorrencias cujo o nome da cidade comece com uma determinada letra\n",
        "filtro1 = df.ocorrencia_cidade.str[0] == 'C'\n",
        "df.loc[filtro1]"
      ],
      "metadata": {
        "id": "RlFi196JHKdJ"
      },
      "execution_count": null,
      "outputs": []
    },
    {
      "cell_type": "code",
      "source": [
        "# ocorrencias cujo o nome da cidade terminem com uma determinada letra\n",
        "filtro1 = df.ocorrencia_cidade.str[-1] == 'A'\n",
        "df.loc[filtro1]"
      ],
      "metadata": {
        "id": "R6CjxrYNH4yD"
      },
      "execution_count": null,
      "outputs": []
    },
    {
      "cell_type": "code",
      "source": [
        "# ocorrencias cujo o nome da cidade terminem com uma sequencia de caracteres\n",
        "filtro1 = df.ocorrencia_cidade.str[-2:] == 'MA'\n",
        "df.loc[filtro1]"
      ],
      "metadata": {
        "id": "HPiUbVedIE4t"
      },
      "execution_count": null,
      "outputs": []
    },
    {
      "cell_type": "code",
      "source": [
        "# ocorrencias cujo o nome da cidade contem uma sequencia de caracteres em qualquer parte do conteudo\n",
        "filtro1 = df.ocorrencia_cidade.str.contains('MA')\n",
        "df.loc[filtro1]"
      ],
      "metadata": {
        "id": "bqGNwzmPIjRl"
      },
      "execution_count": null,
      "outputs": []
    },
    {
      "cell_type": "code",
      "source": [
        "# ocorrencias cujo o nome da cidade contem uma sequencia de caracteres em qualquer parte do conteudo\n",
        "filtro1 = df.ocorrencia_cidade.str.contains('MA|CA')\n",
        "df.loc[filtro1]"
      ],
      "metadata": {
        "id": "wytp6ZqKJIew"
      },
      "execution_count": null,
      "outputs": []
    },
    {
      "cell_type": "code",
      "source": [
        "# ocorrencias do ano de 2015\n",
        "filtro1 = df.ocorrencia_dia.dt.year == 2015\n",
        "df.loc[filtro1]"
      ],
      "metadata": {
        "id": "WlXBDGhOJhhZ"
      },
      "execution_count": null,
      "outputs": []
    },
    {
      "cell_type": "code",
      "source": [
        "# ocorrencias do ano de 2015 e mes 12\n",
        "filtro1 = df.ocorrencia_dia.dt.year == 2015\n",
        "filtro2 = df.ocorrencia_dia.dt.month == 12\n",
        "df.loc[filtro1 & filtro2]"
      ],
      "metadata": {
        "id": "8mFORA6BJ8QY"
      },
      "execution_count": null,
      "outputs": []
    },
    {
      "cell_type": "code",
      "source": [
        "# ocorrencias do ano de 2015 e mes 12\n",
        "filtro1 = (df.ocorrencia_dia.dt.year == 2015) & (df.ocorrencia_dia.dt.month == 12)\n",
        "df.loc[filtro1]"
      ],
      "metadata": {
        "id": "hvLJJ7H7KQ1k"
      },
      "execution_count": null,
      "outputs": []
    },
    {
      "cell_type": "code",
      "source": [
        "# ocorrencias do ano de 2015 e mes 12 e dia 8\n",
        "filtro_ano = df.ocorrencia_dia.dt.year == 2015\n",
        "filtro_mes = df.ocorrencia_dia.dt.month == 12\n",
        "filtro_dia = df.ocorrencia_dia.dt.day == 8\n",
        "df.loc[filtro_ano & filtro_mes & filtro_dia]"
      ],
      "metadata": {
        "id": "jWsM79BKKrBI"
      },
      "execution_count": null,
      "outputs": []
    },
    {
      "cell_type": "code",
      "source": [
        "# ocorrencias do ano de 2015 e mes 12 entre dias 3 e 8\n",
        "filtro_ano = df.ocorrencia_dia.dt.year == 2015\n",
        "filtro_mes = df.ocorrencia_dia.dt.month == 12\n",
        "filtro_dia = (df.ocorrencia_dia.dt.day > 2) & (df.ocorrencia_dia.dt.day < 9)\n",
        "df.loc[filtro_ano & filtro_mes & filtro_dia]"
      ],
      "metadata": {
        "id": "fd67dnP1nN3o"
      },
      "execution_count": null,
      "outputs": []
    },
    {
      "cell_type": "code",
      "source": [
        "df['ocorrencia_dia_hora'] = pd.to_datetime(df.ocorrencia_dia.astype(str) + ' ' + df.ocorrencia_hora)"
      ],
      "metadata": {
        "id": "MMEjtVgloBek"
      },
      "execution_count": null,
      "outputs": []
    },
    {
      "cell_type": "code",
      "source": [
        "df.head()"
      ],
      "metadata": {
        "id": "o5ZfVJwLo5sN"
      },
      "execution_count": null,
      "outputs": []
    },
    {
      "cell_type": "code",
      "source": [
        "df.dtypes"
      ],
      "metadata": {
        "id": "Tnrv8-emo-KF"
      },
      "execution_count": null,
      "outputs": []
    },
    {
      "cell_type": "code",
      "source": [
        "# ocorrencias do ano de 2015 e mes 12 entre dias 3 e 8 utilizando a coluna ocorrencia_dia_hora criada\n",
        "filtro_ano = df.ocorrencia_dia_hora.dt.year == 2015\n",
        "filtro_mes = df.ocorrencia_dia_hora.dt.month == 12\n",
        "filtro_dia = (df.ocorrencia_dia_hora.dt.day > 2) & (df.ocorrencia_dia_hora.dt.day < 9)\n",
        "df.loc[filtro_ano & filtro_mes & filtro_dia]"
      ],
      "metadata": {
        "id": "Yh3Q6EvipN3F"
      },
      "execution_count": null,
      "outputs": []
    },
    {
      "cell_type": "code",
      "source": [
        "# Filtrando pelo dia e hora com a nova coluna criada. Intervalo de datas e horas\n",
        "filtro1 = df.ocorrencia_dia_hora >= '2015-12-03 11:00:00'\n",
        "filtro2 = df.ocorrencia_dia_hora <= '2015-12-08 13:00:00'\n",
        "\n",
        "df.loc[filtro1 & filtro2]"
      ],
      "metadata": {
        "id": "AO9Vk_d7p5GH"
      },
      "execution_count": null,
      "outputs": []
    },
    {
      "cell_type": "code",
      "source": [
        "# ocorrencias do ano de 2015 e mes 3\n",
        "filtro1 = df.ocorrencia_dia.dt.year == 2015\n",
        "filtro2 = df.ocorrencia_dia.dt.month == 3\n",
        "df201503 = df.loc[filtro1 & filtro2]"
      ],
      "metadata": {
        "id": "BI_BoUwDq19o"
      },
      "execution_count": null,
      "outputs": []
    },
    {
      "cell_type": "code",
      "source": [
        "df201503.count()"
      ],
      "metadata": {
        "id": "yH5giRWcrM_H"
      },
      "execution_count": null,
      "outputs": []
    },
    {
      "cell_type": "code",
      "source": [
        "df201503.groupby(['ocorrencia_classificacao']).codigo_ocorrencia.count()"
      ],
      "metadata": {
        "id": "2jUPQHBkrdvs"
      },
      "execution_count": null,
      "outputs": []
    },
    {
      "cell_type": "code",
      "source": [
        "df201503.groupby(['ocorrencia_classificacao']).ocorrencia_aerodromo.count()"
      ],
      "metadata": {
        "id": "llkZ4mBrsgYV"
      },
      "execution_count": null,
      "outputs": []
    },
    {
      "cell_type": "code",
      "source": [
        "#Conta os registros que tem valores\n",
        "df201503.groupby(['ocorrencia_classificacao']).size()"
      ],
      "metadata": {
        "id": "k02XqZpqsv7J"
      },
      "execution_count": null,
      "outputs": []
    },
    {
      "cell_type": "code",
      "source": [
        "df201503.groupby(['ocorrencia_classificacao']).size().sort_values()"
      ],
      "metadata": {
        "id": "mAqYbJ_QtDC6"
      },
      "execution_count": null,
      "outputs": []
    },
    {
      "cell_type": "code",
      "source": [
        "df201503.groupby(['ocorrencia_classificacao']).size().sort_values(ascending=False)"
      ],
      "metadata": {
        "id": "Mrn7EWo-tOLc"
      },
      "execution_count": null,
      "outputs": []
    },
    {
      "cell_type": "code",
      "source": [
        "#Agrupamento de dados sobre a regiao sudeste no ano de 2010\n",
        "filtro1 = df.ocorrencia_dia.dt.year == 2015\n",
        "filtro2 = df.ocorrencia_uf.isin(['SP', 'MG', 'ES', 'RJ'])\n",
        "dfsudeste2015 = df.loc[filtro1 & filtro2]"
      ],
      "metadata": {
        "id": "vVKqqTUStxcS"
      },
      "execution_count": null,
      "outputs": []
    },
    {
      "cell_type": "code",
      "source": [
        "dfsudeste2015.groupby(['ocorrencia_classificacao']).size()"
      ],
      "metadata": {
        "id": "SCgXhPqou8Mz"
      },
      "execution_count": null,
      "outputs": []
    },
    {
      "cell_type": "code",
      "source": [
        "dfsudeste2015.count()"
      ],
      "metadata": {
        "id": "iBVpPXfsvL71"
      },
      "execution_count": null,
      "outputs": []
    },
    {
      "cell_type": "code",
      "source": [
        "#Agrupa o resultado por tipo de ocorrencia e cidades onde a ocorrencia aconteceu\n",
        "dfsudeste2015.groupby(['ocorrencia_classificacao', 'ocorrencia_uf']).size()"
      ],
      "metadata": {
        "id": "DQ31lOhOvTnh"
      },
      "execution_count": null,
      "outputs": []
    },
    {
      "cell_type": "code",
      "source": [
        "dfsudeste2015.groupby(['ocorrencia_cidade']).size().sort_values(ascending=False)"
      ],
      "metadata": {
        "id": "jRdJLR9WvmrU"
      },
      "execution_count": null,
      "outputs": []
    },
    {
      "cell_type": "code",
      "source": [
        "filtro1 = dfsudeste2015.ocorrencia_cidade == 'RIO DE JANEIRO'\n",
        "filtro2 = dfsudeste2015.total_recomendacoes > 0\n",
        "dfsudeste2015.loc[filtro1 & filtro2]"
      ],
      "metadata": {
        "id": "TlQb6wEAwHL7"
      },
      "execution_count": null,
      "outputs": []
    },
    {
      "cell_type": "code",
      "source": [
        "filtro1 = dfsudeste2015.ocorrencia_cidade == 'RIO DE JANEIRO'\n",
        "dfsudeste2015.loc[filtro1].total_recomendacoes.sum()"
      ],
      "metadata": {
        "id": "tBL1UK5sxLpR"
      },
      "execution_count": null,
      "outputs": []
    },
    {
      "cell_type": "code",
      "source": [
        "dfsudeste2015.groupby(['ocorrencia_cidade']).total_recomendacoes.sum()"
      ],
      "metadata": {
        "id": "05YFEzfcxZ7i"
      },
      "execution_count": null,
      "outputs": []
    },
    {
      "cell_type": "code",
      "source": [
        "#Quando quiser trazer algo que não estiver incluso no agrupamento, como campos nulos adicione dropna=False para eles aparecerem agrupados.\n",
        "dfsudeste2015.groupby(['ocorrencia_aerodromo'], dropna=False).total_recomendacoes.sum()"
      ],
      "metadata": {
        "id": "rBuga_3ex2fm"
      },
      "execution_count": null,
      "outputs": []
    },
    {
      "cell_type": "code",
      "source": [
        "filtro = dfsudeste2015.total_recomendacoes > 0\n",
        "dfsudeste2015.loc[filtro].groupby(['ocorrencia_cidade']).total_recomendacoes.sum().sort_values(ascending=False)"
      ],
      "metadata": {
        "id": "OKS_1BuMyXLZ"
      },
      "execution_count": null,
      "outputs": []
    },
    {
      "cell_type": "code",
      "source": [
        "dfsudeste2015.loc[filtro].groupby(['ocorrencia_cidade', dfsudeste2015.ocorrencia_dia.dt.month]).total_recomendacoes.sum()"
      ],
      "metadata": {
        "id": "CVptf8uHzAOE"
      },
      "execution_count": null,
      "outputs": []
    },
    {
      "cell_type": "code",
      "source": [
        "filtro1 = dfsudeste2015.total_recomendacoes > 0\n",
        "filtro2 = dfsudeste2015.ocorrencia_cidade == 'RIO DE JANEIRO'\n",
        "dfsudeste2015.loc[filtro1 & filtro2]"
      ],
      "metadata": {
        "id": "L-qBSuFwzsPv"
      },
      "execution_count": null,
      "outputs": []
    }
  ]
}